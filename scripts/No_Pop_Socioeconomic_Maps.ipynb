{
 "cells": [
  {
   "cell_type": "code",
   "execution_count": null,
   "metadata": {
    "colab": {
     "base_uri": "https://localhost:8080/"
    },
    "executionInfo": {
     "elapsed": 7391,
     "status": "ok",
     "timestamp": 1705935257395,
     "user": {
      "displayName": "Sameer Menghani",
      "userId": "13382994027790115084"
     },
     "user_tz": 300
    },
    "id": "9lUd3ywh_oN1",
    "outputId": "c65983b6-8310-4217-f509-1aee5ff7e636"
   },
   "outputs": [
    {
     "name": "stdout",
     "output_type": "stream",
     "text": [
      "Requirement already satisfied: geopandas in /usr/local/lib/python3.10/dist-packages (0.13.2)\n",
      "Requirement already satisfied: fiona>=1.8.19 in /usr/local/lib/python3.10/dist-packages (from geopandas) (1.9.5)\n",
      "Requirement already satisfied: packaging in /usr/local/lib/python3.10/dist-packages (from geopandas) (23.2)\n",
      "Requirement already satisfied: pandas>=1.1.0 in /usr/local/lib/python3.10/dist-packages (from geopandas) (1.5.3)\n",
      "Requirement already satisfied: pyproj>=3.0.1 in /usr/local/lib/python3.10/dist-packages (from geopandas) (3.6.1)\n",
      "Requirement already satisfied: shapely>=1.7.1 in /usr/local/lib/python3.10/dist-packages (from geopandas) (2.0.2)\n",
      "Requirement already satisfied: attrs>=19.2.0 in /usr/local/lib/python3.10/dist-packages (from fiona>=1.8.19->geopandas) (23.2.0)\n",
      "Requirement already satisfied: certifi in /usr/local/lib/python3.10/dist-packages (from fiona>=1.8.19->geopandas) (2023.11.17)\n",
      "Requirement already satisfied: click~=8.0 in /usr/local/lib/python3.10/dist-packages (from fiona>=1.8.19->geopandas) (8.1.7)\n",
      "Requirement already satisfied: click-plugins>=1.0 in /usr/local/lib/python3.10/dist-packages (from fiona>=1.8.19->geopandas) (1.1.1)\n",
      "Requirement already satisfied: cligj>=0.5 in /usr/local/lib/python3.10/dist-packages (from fiona>=1.8.19->geopandas) (0.7.2)\n",
      "Requirement already satisfied: six in /usr/local/lib/python3.10/dist-packages (from fiona>=1.8.19->geopandas) (1.16.0)\n",
      "Requirement already satisfied: setuptools in /usr/local/lib/python3.10/dist-packages (from fiona>=1.8.19->geopandas) (67.7.2)\n",
      "Requirement already satisfied: python-dateutil>=2.8.1 in /usr/local/lib/python3.10/dist-packages (from pandas>=1.1.0->geopandas) (2.8.2)\n",
      "Requirement already satisfied: pytz>=2020.1 in /usr/local/lib/python3.10/dist-packages (from pandas>=1.1.0->geopandas) (2023.3.post1)\n",
      "Requirement already satisfied: numpy>=1.21.0 in /usr/local/lib/python3.10/dist-packages (from pandas>=1.1.0->geopandas) (1.23.5)\n"
     ]
    }
   ],
   "source": [
    "!pip install geopandas"
   ]
  },
  {
   "cell_type": "code",
   "execution_count": null,
   "metadata": {
    "executionInfo": {
     "elapsed": 8094,
     "status": "ok",
     "timestamp": 1705935287606,
     "user": {
      "displayName": "Sameer Menghani",
      "userId": "13382994027790115084"
     },
     "user_tz": 300
    },
    "id": "iHN7Ja1ftq6S"
   },
   "outputs": [],
   "source": [
    "import pandas as pd\n",
    "import numpy as np\n",
    "import geopandas as gpd\n",
    "import matplotlib.pyplot as plt\n",
    "\n",
    "pfas_stats = pd.read_csv('/preprocessing/PFAS_Data.csv')\n",
    "states = gpd.read_file('/preprocessing/tl_2021/tl_2021_us_state.shp')\n",
    "\n",
    "def prepare_df_agg(df, column):\n",
    "    df = df.dropna(subset=[column])\n",
    "    df = df.sort_values(by=[column], ascending=False)\n",
    "    df_agg = df.groupby(['city', 'Latitude', 'Longitude']).max()[column].reset_index()\n",
    "    return df_agg\n",
    "\n",
    "def prepare_geo_df(df, column):\n",
    "    df_agg = prepare_df_agg(df, column)\n",
    "    geo_df = gpd.GeoDataFrame(df_agg, geometry=gpd.points_from_xy(df_agg.Longitude, df_agg.Latitude))\n",
    "    return geo_df\n",
    "\n",
    "def plot_socio_df(geo_df, hex_color, socio_column, cblabel, titlelabel, ax=None):\n",
    "    if ax is None:\n",
    "        geo_df = prepare_geo_df(geo_df, socio_column)\n",
    "        plt.ioff()\n",
    "        states.plot(figsize=(10, 10), color=hex_color, linewidth=1, aspect=1)\n",
    "\n",
    "        geo_df_values = geo_df.loc[geo_df[socio_column].notnull()]\n",
    "\n",
    "        plt.scatter(\n",
    "            geo_df_values['Longitude'],\n",
    "            geo_df_values['Latitude'],\n",
    "            s=0.5,\n",
    "            c=(geo_df_values[socio_column]),\n",
    "            cmap='Greens',\n",
    "            zorder=3\n",
    "        )\n",
    "\n",
    "        cbar = plt.colorbar(label=cblabel, shrink=0.5)\n",
    "\n",
    "        geo_df_zero = geo_df.loc[geo_df[socio_column] == 0]\n",
    "        plt.scatter(geo_df_zero['Longitude'], geo_df_zero['Latitude'], s=0.5, c='White', zorder=1)\n",
    "\n",
    "        plt.ylim([23, 49.38])\n",
    "        plt.xlim([-124.77, -66.95])\n",
    "\n",
    "        plt.xlabel(\"Longitude\", size=12)\n",
    "        plt.ylabel(\"Latitude\", size=12)\n",
    "        plt.title(titlelabel)\n",
    "\n",
    "        # Generate file path with f-string\n",
    "        file_path = f\"/analysis2/plot_{socio_column}.png\"\n",
    "\n",
    "        # Save the plot as a PNG file\n",
    "        plt.savefig(file_path)\n",
    "\n",
    "        plt.show()\n",
    "        plt.clf()\n",
    "\n",
    "    else:\n",
    "        geo_df = prepare_geo_df(geo_df, socio_column)\n",
    "        plt.ioff()\n",
    "        states.plot(ax=ax, figsize=(10, 10), color=hex_color, linewidth=1, aspect=1)\n",
    "\n",
    "        geo_df_values = geo_df.loc[geo_df[socio_column].notnull()]\n",
    "\n",
    "        scatter = ax.scatter(\n",
    "            geo_df_values['Longitude'],\n",
    "            geo_df_values['Latitude'],\n",
    "            s=0.5,\n",
    "            c=(geo_df_values[socio_column]),\n",
    "            cmap='Greens',\n",
    "            zorder=3\n",
    "        )\n",
    "\n",
    "        cbar = plt.colorbar(scatter, ax=ax, label=cblabel, shrink=0.5)\n",
    "\n",
    "\n",
    "        geo_df_zero = geo_df.loc[geo_df[socio_column] == 0]\n",
    "        ax.scatter(geo_df_zero['Longitude'], geo_df_zero['Latitude'], s=0.5, c='White', zorder=1)\n",
    "\n",
    "        ax.set_ylim([23, 49.38])\n",
    "        ax.set_xlim([-124.77, -66.95])\n",
    "\n",
    "        ax.set_xlabel(\"Longitude\", size=12)\n",
    "        ax.set_ylabel(\"Latitude\", size=12)\n",
    "        ax.set_title(titlelabel)\n"
   ]
  },
  {
   "cell_type": "code",
   "execution_count": 6,
   "metadata": {
    "colab": {
     "base_uri": "https://localhost:8080/",
     "height": 1000,
     "output_embedded_package_id": "1eNURLFvhYtGikRv5FMre3KEdA5qMiLOt"
    },
    "executionInfo": {
     "elapsed": 85595,
     "status": "ok",
     "timestamp": 1705935388420,
     "user": {
      "displayName": "Sameer Menghani",
      "userId": "13382994027790115084"
     },
     "user_tz": 300
    },
    "id": "c4_KmL8G5-4Q",
    "outputId": "f2f2fc6e-7ba1-49dc-bc40-031332497dbe"
   },
   "outputs": [
    {
     "data": {
      "text/plain": [
       "Output hidden; open in https://colab.research.google.com to view."
      ]
     },
     "metadata": {},
     "output_type": "display_data"
    }
   ],
   "source": [
    "plot_socio_df(pfas_stats, '#D3D3D3', \"N_D_LESSHS_PER\", \"National Less than High School Education Percentile\",\n",
    "              \"The National Less than High School Education Percentile of Major Cities in the United States\")\n",
    "\n",
    "plot_socio_df(pfas_stats, '#D3D3D3', \"N_D_INCOME_PER\", \"National Low Income Percentile\",\n",
    "              \"The National Low Income Percentile of Major Cities in the United States\")\n",
    "\n",
    "plot_socio_df(pfas_stats, '#D3D3D3', \"N_D_MINOR_PER\", \"National Minority Percentile\",\n",
    "              \"The National Minority Percentile of Major Cities in the United States\")\n",
    "\n",
    "plot_socio_df(pfas_stats, '#D3D3D3', \"N_D_UNEMPLOYED_PER\", \"National Unemployment Rate Percentile\",\n",
    "              \"The National Unemployment Rate Percentile of Major Cities in the United States\")\n",
    "\n",
    "plot_socio_df(pfas_stats, '#D3D3D3', \"N_D_LESSHS_PER\", \"National Less than High School Education Percentile\",\n",
    "              \"The National Less than High School Education Percentile of Major Cities in the United States\")\n",
    "\n",
    "plot_socio_df(pfas_stats, '#D3D3D3', 'N_D_UNDER5_PER', \"National Under Age 5 Percentile\",\n",
    "              \"The National Under Age 5 Percentile of Major Cities in the United States\")\n",
    "\n",
    "plot_socio_df(pfas_stats, '#D3D3D3', 'N_D_OVER64_PER', \"National Over Age 64 Percentile\",\n",
    "              \"The National Over Age 64 Percentile of Major Cities in the United States\")"
   ]
  },
  {
   "cell_type": "code",
   "execution_count": null,
   "metadata": {
    "id": "otRolzkQ-MTT"
   },
   "outputs": [],
   "source": [
    "import matplotlib.gridspec as gridspec\n",
    "\n",
    "fig = plt.figure(figsize=(20, 20))\n",
    "\n",
    "grid=(3,2)\n",
    "\n",
    "ax_hs = plt.subplot2grid(grid, (0, 0))\n",
    "ax_inc = plt.subplot2grid(grid, (0, 1))\n",
    "ax_min = plt.subplot2grid(grid, (1, 0))\n",
    "ax_un = plt.subplot2grid(grid, (1, 1))\n",
    "ax_u5 = plt.subplot2grid(grid, (2, 0))\n",
    "ax_o64 = plt.subplot2grid(grid, (2, 1))\n",
    "\n",
    "\n",
    "\n",
    "plot_socio_df(pfas_stats, '#D3D3D3', \"N_D_LESSHS_PER\", \"National Less than High School Education Percentile\",\n",
    "              \"The National Less than High School Education Percentile of Major Cities in the United States\", ax=ax_hs)\n",
    "\n",
    "plot_socio_df(pfas_stats, '#D3D3D3', \"N_D_INCOME_PER\", \"National Low Income Percentile\",\n",
    "              \"The National Low Income Percentile of Major Cities in the United States\", ax=ax_inc)\n",
    "\n",
    "plot_socio_df(pfas_stats, '#D3D3D3', \"N_D_MINOR_PER\", \"National Minority Percentile\",\n",
    "              \"The National Minority Percentile of Major Cities in the United States\", ax=ax_min)\n",
    "\n",
    "plot_socio_df(pfas_stats, '#D3D3D3', \"N_D_UNEMPLOYED_PER\", \"National Unemployment Rate Percentile\",\n",
    "              \"The National Unemployment Rate Percentile of Major Cities in the United States\", ax=ax_un)\n",
    "\n",
    "plot_socio_df(pfas_stats, '#D3D3D3', 'N_D_UNDER5_PER', \"National Under Age 5 Percentile\",\n",
    "              \"The National Under Age 5 Percentile of Major Cities in the United States\", ax=ax_u5)\n",
    "\n",
    "plot_socio_df(pfas_stats, '#D3D3D3', 'N_D_OVER64_PER', \"National Over Age 64 Percentile\",\n",
    "              \"The National Over Age 64 Percentile of Major Cities in the United States\", ax=ax_o64)\n",
    "\n",
    "\n",
    "ax_hs.text(-128, 52, '2a', fontsize=20, fontweight='bold')\n",
    "ax_inc.text(-128, 52, '2b', fontsize=20, fontweight='bold')\n",
    "ax_min.text(-128, 52, '2c', fontsize=20, fontweight='bold')\n",
    "ax_un.text(-128, 52, '2d', fontsize=20, fontweight='bold')\n",
    "ax_u5.text(-128, 52, '2e', fontsize=20, fontweight='bold')\n",
    "ax_o64.text(-128, 52, '2f', fontsize=20, fontweight='bold')\n",
    "\n",
    "\n",
    "\n",
    "plt.tight_layout()\n",
    "\n",
    "file_path = f\"/content/drive/MyDrive/pfas_python_files/no_population_analysis2/Figure2.png\"\n",
    "plt.savefig(file_path)\n",
    "\n",
    "fig"
   ]
  }
 ],
 "metadata": {
  "colab": {
   "provenance": [
    {
     "file_id": "1twlcih5c6faJkLhWME-0NLWJSjjhmtLb",
     "timestamp": 1687200439845
    }
   ]
  },
  "kernelspec": {
   "display_name": "Python 3",
   "name": "python3"
  },
  "language_info": {
   "name": "python"
  }
 },
 "nbformat": 4,
 "nbformat_minor": 0
}
